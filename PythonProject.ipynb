{
 "cells": [
  {
   "cell_type": "markdown",
   "id": "806f924f-1033-4abf-ab5b-b294ffcdd9fc",
   "metadata": {},
   "source": [
    "# Python Project"
   ]
  },
  {
   "cell_type": "code",
   "execution_count": 88,
   "id": "868c2b6e-fac6-4a6f-9911-db93beb80683",
   "metadata": {},
   "outputs": [],
   "source": [
    "def city():\n",
    "    print('Welcome to Book My Show')\n",
    "    print('Please Enter a city : \\n 1. Bangalore \\n 2. Mumbai \\n 3. Delhi \\n 4. Hyderabad.')\n",
    "    c = int(input())\n",
    "    if c == 1:\n",
    "        print('You have selected Bangalore')\n",
    "    elif c == 2:\n",
    "        print('You have selected Mumbai')\n",
    "    elif c == 3:\n",
    "        print('You have selected Delhi')\n",
    "    elif c == 4:\n",
    "        print('You have selected Hyderabad')\n",
    "    else:\n",
    "        print('Choose a valid Option')\n",
    "    t_movie()"
   ]
  },
  {
   "cell_type": "code",
   "execution_count": 90,
   "id": "c874952c-bc10-48c8-a37e-f3de9012b817",
   "metadata": {},
   "outputs": [],
   "source": [
    "def t_movie():\n",
    "    print('Choose a movie to watch : \\n 1. Interstellar \\n 2. 365 days \\n 3. KGF \\n 4. John Wick-Chap 4 \\n 5. Back')\n",
    "    t = int(input())\n",
    "    if t == 1:\n",
    "        print('You have selected Interstellar')\n",
    "    elif t == 2:\n",
    "        print('You have selected 365 days')\n",
    "    elif t == 3:\n",
    "        print('You have selected KGF')\n",
    "    elif t == 4:\n",
    "        print('You have selected John Wich - Chap 4')\n",
    "    elif t == 5:\n",
    "        city()\n",
    "    else:\n",
    "        print('Choose a movie from the given list')\n",
    "    theatre()"
   ]
  },
  {
   "cell_type": "code",
   "execution_count": 92,
   "id": "f6f2060e-37cf-429d-9816-8bd2a963bb8f",
   "metadata": {},
   "outputs": [],
   "source": [
    "def theatre():\n",
    "    print('Choose your theatre to watch a movie : \\n 1. INOX \\n 2. PVR \\n 3. Back')\n",
    "    h = int(input())\n",
    "    if h == 1:\n",
    "        print('You have selected INOX')\n",
    "        p  = 1000\n",
    "        print('Price for each ticket : Rs.',p)\n",
    "        print(f'How many tickets you wanna buy:')\n",
    "        s= int(input())\n",
    "        if s > 0 and s <= 3:\n",
    "            print('You will have 5% discount. Amount to be paid Rs.' ,s*(p - p*5/100))\n",
    "        elif s >= 3 and s < 10:\n",
    "            print('You will have 10% discount.Amount to be paid Rs.',s*(p - p*10/100))\n",
    "        else:\n",
    "            print('You will have 20% discount.Amount to be paid Rs.',s*(p - p*20/100))\n",
    "\n",
    "        \n",
    "    elif h == 2:\n",
    "        print('You have selected PVR')\n",
    "        p  = 500\n",
    "        print('Price for each ticket : Rs.',p)\n",
    "        print(f'How many tickets you wanna buy:')\n",
    "        s= int(input())\n",
    "        if s > 0 and s <= 3:\n",
    "            print('You will have 5% discount. Amount to be paid Rs.' ,s*(p - p*5/100))\n",
    "        elif s >= 3 and s < 10:\n",
    "            print('You will have 10% discount.Amount to be paid Rs.',s*(p - p*10/100))\n",
    "        else:\n",
    "            print('You will have 20% discount.Amount to be paid Rs.',s*(p - p*20/100))\n",
    "\n",
    "\n",
    "    elif h == 3:\n",
    "        t_movie()\n",
    "    else:\n",
    "        print('Choose a valid option')\n",
    "    timing(h)"
   ]
  },
  {
   "cell_type": "code",
   "execution_count": 128,
   "id": "10693ef5-ca42-421c-9c0c-ad4d6d55ef16",
   "metadata": {},
   "outputs": [],
   "source": [
    "def timing(h):\n",
    "    time1 = {\n",
    "        '1': '10:00-1:00',\n",
    "        '2': '1:10-4:10',\n",
    "        '3': '4:20-7:20',\n",
    "        '4': '7:30-10:30'\n",
    "    }\n",
    "\n",
    "    time2 = {\n",
    "        '1': '10:15-1:15',\n",
    "        '2': '1:25-4:25',\n",
    "        '3': '4:35-7:35',\n",
    "        '4': '7:45-10:45'\n",
    "    }\n",
    "\n",
    "    time3 = {\n",
    "        '1': '10:30-1:30',\n",
    "        '2': '1:40-4:40',\n",
    "        '3': '4:50-7:50',\n",
    "        '4': '8:00-10:30'\n",
    "    }\n",
    "    print('Please select the timings \\n Available timings' )\n",
    "    if h == 1:\n",
    "        print(\"'1': '10:00-1:00'\\n'2': '1:10-4:10'\\n'3': '4:20-7:20'\\n'4': '7:30-10:30'\")\n",
    "        timing = input()\n",
    "        if timing in ('1','2','3','4'):\n",
    "            print('Selected timings are ,', time1[timing])\n",
    "        else : \n",
    "            print('Choose an option from available timings')\n",
    "\n",
    "    elif h == 2:\n",
    "        print(\"'1': '10:15-1:15'\\n'2': '1:25-4:25'\\n'3': '4:35-7:35'\\n'4': '7:45-10:45'\")\n",
    "        timing = input()\n",
    "        if timing in ('1','2','3','4'):\n",
    "            print('Selected timings are ,', time2[timing])\n",
    "        else : \n",
    "            print('Choose an option from available timings')"
   ]
  },
  {
   "cell_type": "code",
   "execution_count": 130,
   "id": "74355403-b3b1-4606-a8a1-65e6968d5a90",
   "metadata": {},
   "outputs": [
    {
     "name": "stdout",
     "output_type": "stream",
     "text": [
      "Welcome to Book My Show\n",
      "Please Enter a city : \n",
      " 1. Bangalore \n",
      " 2. Mumbai \n",
      " 3. Delhi \n",
      " 4. Hyderabad.\n"
     ]
    },
    {
     "name": "stdin",
     "output_type": "stream",
     "text": [
      " 1\n"
     ]
    },
    {
     "name": "stdout",
     "output_type": "stream",
     "text": [
      "You have selected Bangalore\n",
      "Choose a movie to watch : \n",
      " 1. Interstellar \n",
      " 2. 365 days \n",
      " 3. KGF \n",
      " 4. John Wick-Chap 4 \n",
      " 5. Back\n"
     ]
    },
    {
     "name": "stdin",
     "output_type": "stream",
     "text": [
      " 1\n"
     ]
    },
    {
     "name": "stdout",
     "output_type": "stream",
     "text": [
      "You have selected Interstellar\n",
      "Choose your theatre to watch a movie : \n",
      " 1. INOX \n",
      " 2. PVR \n",
      " 3. Back\n"
     ]
    },
    {
     "name": "stdin",
     "output_type": "stream",
     "text": [
      " 2\n"
     ]
    },
    {
     "name": "stdout",
     "output_type": "stream",
     "text": [
      "You have selected PVR\n",
      "Price for each ticket : Rs. 500\n",
      "How many tickets you wanna buy:\n"
     ]
    },
    {
     "name": "stdin",
     "output_type": "stream",
     "text": [
      " 2\n"
     ]
    },
    {
     "name": "stdout",
     "output_type": "stream",
     "text": [
      "You will have 5% discount. Amount to be paid Rs. 950.0\n",
      "Please select the timings \n",
      " Available timings\n",
      "'1': '10:15-1:15'\n",
      "'2': '1:25-4:25'\n",
      "'3': '4:35-7:35'\n",
      "'4': '7:45-10:45'\n"
     ]
    },
    {
     "name": "stdin",
     "output_type": "stream",
     "text": [
      " 4\n"
     ]
    },
    {
     "name": "stdout",
     "output_type": "stream",
     "text": [
      "Selected timings are , 7:45-10:45\n"
     ]
    }
   ],
   "source": [
    "city()"
   ]
  },
  {
   "cell_type": "code",
   "execution_count": null,
   "id": "c0ace8d8-a8cf-4690-b25b-e7cf2ba1ce92",
   "metadata": {},
   "outputs": [],
   "source": []
  }
 ],
 "metadata": {
  "kernelspec": {
   "display_name": "Python 3 (ipykernel)",
   "language": "python",
   "name": "python3"
  },
  "language_info": {
   "codemirror_mode": {
    "name": "ipython",
    "version": 3
   },
   "file_extension": ".py",
   "mimetype": "text/x-python",
   "name": "python",
   "nbconvert_exporter": "python",
   "pygments_lexer": "ipython3",
   "version": "3.12.3"
  }
 },
 "nbformat": 4,
 "nbformat_minor": 5
}
